{
  "nbformat": 4,
  "nbformat_minor": 0,
  "metadata": {
    "colab": {
      "provenance": []
    },
    "kernelspec": {
      "name": "python3",
      "display_name": "Python 3"
    },
    "language_info": {
      "name": "python"
    }
  },
  "cells": [
    {
      "cell_type": "code",
      "execution_count": 1,
      "metadata": {
        "colab": {
          "base_uri": "https://localhost:8080/"
        },
        "id": "NPA0bL2xUE9H",
        "outputId": "fe6c5870-021f-4471-e0e0-ffed62fe07c1"
      },
      "outputs": [
        {
          "output_type": "stream",
          "name": "stdout",
          "text": [
            "Looking in indexes: https://pypi.org/simple, https://us-python.pkg.dev/colab-wheels/public/simple/\n",
            "Requirement already satisfied: riskfolio-lib in /usr/local/lib/python3.7/dist-packages (3.3.0)\n",
            "Requirement already satisfied: arch>=4.15 in /usr/local/lib/python3.7/dist-packages (from riskfolio-lib) (5.3.1)\n",
            "Requirement already satisfied: scipy>=1.0.1 in /usr/local/lib/python3.7/dist-packages (from riskfolio-lib) (1.7.3)\n",
            "Requirement already satisfied: pandas>=1.0.0 in /usr/local/lib/python3.7/dist-packages (from riskfolio-lib) (1.3.5)\n",
            "Requirement already satisfied: xlsxwriter>=1.3.7 in /usr/local/lib/python3.7/dist-packages (from riskfolio-lib) (3.0.3)\n",
            "Requirement already satisfied: scikit-learn>=0.22.0 in /usr/local/lib/python3.7/dist-packages (from riskfolio-lib) (1.0.2)\n",
            "Requirement already satisfied: matplotlib>=3.3.0 in /usr/local/lib/python3.7/dist-packages (from riskfolio-lib) (3.5.3)\n",
            "Requirement already satisfied: cvxpy>=1.0.25 in /usr/local/lib/python3.7/dist-packages (from riskfolio-lib) (1.2.1)\n",
            "Requirement already satisfied: numpy>=1.17.0 in /usr/local/lib/python3.7/dist-packages (from riskfolio-lib) (1.21.6)\n",
            "Requirement already satisfied: astropy>=4.3.1 in /usr/local/lib/python3.7/dist-packages (from riskfolio-lib) (4.3.1)\n",
            "Requirement already satisfied: networkx>=2.5.1 in /usr/local/lib/python3.7/dist-packages (from riskfolio-lib) (2.6.3)\n",
            "Requirement already satisfied: statsmodels>=0.10.1 in /usr/local/lib/python3.7/dist-packages (from riskfolio-lib) (0.12.2)\n",
            "Requirement already satisfied: property-cached>=1.6.4 in /usr/local/lib/python3.7/dist-packages (from arch>=4.15->riskfolio-lib) (1.6.4)\n",
            "Requirement already satisfied: pyerfa>=1.7.3 in /usr/local/lib/python3.7/dist-packages (from astropy>=4.3.1->riskfolio-lib) (2.0.0.1)\n",
            "Requirement already satisfied: importlib-metadata in /usr/local/lib/python3.7/dist-packages (from astropy>=4.3.1->riskfolio-lib) (4.12.0)\n",
            "Requirement already satisfied: scs>=1.1.6 in /usr/local/lib/python3.7/dist-packages (from cvxpy>=1.0.25->riskfolio-lib) (3.2.0)\n",
            "Requirement already satisfied: ecos>=2 in /usr/local/lib/python3.7/dist-packages (from cvxpy>=1.0.25->riskfolio-lib) (2.0.10)\n",
            "Requirement already satisfied: osqp>=0.4.1 in /usr/local/lib/python3.7/dist-packages (from cvxpy>=1.0.25->riskfolio-lib) (0.6.2.post0)\n",
            "Requirement already satisfied: pyparsing>=2.2.1 in /usr/local/lib/python3.7/dist-packages (from matplotlib>=3.3.0->riskfolio-lib) (3.0.9)\n",
            "Requirement already satisfied: fonttools>=4.22.0 in /usr/local/lib/python3.7/dist-packages (from matplotlib>=3.3.0->riskfolio-lib) (4.37.1)\n",
            "Requirement already satisfied: python-dateutil>=2.7 in /usr/local/lib/python3.7/dist-packages (from matplotlib>=3.3.0->riskfolio-lib) (2.8.2)\n",
            "Requirement already satisfied: packaging>=20.0 in /usr/local/lib/python3.7/dist-packages (from matplotlib>=3.3.0->riskfolio-lib) (21.3)\n",
            "Requirement already satisfied: kiwisolver>=1.0.1 in /usr/local/lib/python3.7/dist-packages (from matplotlib>=3.3.0->riskfolio-lib) (1.4.4)\n",
            "Requirement already satisfied: cycler>=0.10 in /usr/local/lib/python3.7/dist-packages (from matplotlib>=3.3.0->riskfolio-lib) (0.11.0)\n",
            "Requirement already satisfied: pillow>=6.2.0 in /usr/local/lib/python3.7/dist-packages (from matplotlib>=3.3.0->riskfolio-lib) (9.2.0)\n",
            "Requirement already satisfied: typing-extensions in /usr/local/lib/python3.7/dist-packages (from kiwisolver>=1.0.1->matplotlib>=3.3.0->riskfolio-lib) (4.3.0)\n",
            "Requirement already satisfied: qdldl in /usr/local/lib/python3.7/dist-packages (from osqp>=0.4.1->cvxpy>=1.0.25->riskfolio-lib) (0.1.5.post2)\n",
            "Requirement already satisfied: pytz>=2017.3 in /usr/local/lib/python3.7/dist-packages (from pandas>=1.0.0->riskfolio-lib) (2022.2.1)\n",
            "Requirement already satisfied: six>=1.5 in /usr/local/lib/python3.7/dist-packages (from python-dateutil>=2.7->matplotlib>=3.3.0->riskfolio-lib) (1.16.0)\n",
            "Requirement already satisfied: threadpoolctl>=2.0.0 in /usr/local/lib/python3.7/dist-packages (from scikit-learn>=0.22.0->riskfolio-lib) (3.1.0)\n",
            "Requirement already satisfied: joblib>=0.11 in /usr/local/lib/python3.7/dist-packages (from scikit-learn>=0.22.0->riskfolio-lib) (1.1.0)\n",
            "Requirement already satisfied: patsy>=0.5 in /usr/local/lib/python3.7/dist-packages (from statsmodels>=0.10.1->riskfolio-lib) (0.5.2)\n",
            "Requirement already satisfied: zipp>=0.5 in /usr/local/lib/python3.7/dist-packages (from importlib-metadata->astropy>=4.3.1->riskfolio-lib) (3.8.1)\n"
          ]
        }
      ],
      "source": [
        "!pip install riskfolio-lib"
      ]
    },
    {
      "cell_type": "code",
      "source": [
        "!pip install yfinance"
      ],
      "metadata": {
        "colab": {
          "base_uri": "https://localhost:8080/"
        },
        "id": "_FABh-H_USWc",
        "outputId": "b0df089d-492b-4e95-8346-ecc19cf58354"
      },
      "execution_count": 2,
      "outputs": [
        {
          "output_type": "stream",
          "name": "stdout",
          "text": [
            "Looking in indexes: https://pypi.org/simple, https://us-python.pkg.dev/colab-wheels/public/simple/\n",
            "Requirement already satisfied: yfinance in /usr/local/lib/python3.7/dist-packages (0.1.74)\n",
            "Requirement already satisfied: pandas>=0.24.0 in /usr/local/lib/python3.7/dist-packages (from yfinance) (1.3.5)\n",
            "Requirement already satisfied: requests>=2.26 in /usr/local/lib/python3.7/dist-packages (from yfinance) (2.28.1)\n",
            "Requirement already satisfied: numpy>=1.15 in /usr/local/lib/python3.7/dist-packages (from yfinance) (1.21.6)\n",
            "Requirement already satisfied: multitasking>=0.0.7 in /usr/local/lib/python3.7/dist-packages (from yfinance) (0.0.11)\n",
            "Requirement already satisfied: lxml>=4.5.1 in /usr/local/lib/python3.7/dist-packages (from yfinance) (4.9.1)\n",
            "Requirement already satisfied: pytz>=2017.3 in /usr/local/lib/python3.7/dist-packages (from pandas>=0.24.0->yfinance) (2022.2.1)\n",
            "Requirement already satisfied: python-dateutil>=2.7.3 in /usr/local/lib/python3.7/dist-packages (from pandas>=0.24.0->yfinance) (2.8.2)\n",
            "Requirement already satisfied: six>=1.5 in /usr/local/lib/python3.7/dist-packages (from python-dateutil>=2.7.3->pandas>=0.24.0->yfinance) (1.16.0)\n",
            "Requirement already satisfied: charset-normalizer<3,>=2 in /usr/local/lib/python3.7/dist-packages (from requests>=2.26->yfinance) (2.1.1)\n",
            "Requirement already satisfied: certifi>=2017.4.17 in /usr/local/lib/python3.7/dist-packages (from requests>=2.26->yfinance) (2022.6.15)\n",
            "Requirement already satisfied: idna<4,>=2.5 in /usr/local/lib/python3.7/dist-packages (from requests>=2.26->yfinance) (2.10)\n",
            "Requirement already satisfied: urllib3<1.27,>=1.21.1 in /usr/local/lib/python3.7/dist-packages (from requests>=2.26->yfinance) (1.24.3)\n"
          ]
        }
      ]
    },
    {
      "cell_type": "markdown",
      "source": [
        "## Max Return Portfolio Formula\n",
        "![1_v3bOLlnz6Wl2wqs-Le8TPw.png](data:image/png;base64,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)"
      ],
      "metadata": {
        "id": "5Q9ZRqNlUW3q"
      }
    },
    {
      "cell_type": "code",
      "source": [
        "import numpy as np\n",
        "import pandas as pd\n",
        "import yfinance as yf\n",
        "import warnings"
      ],
      "metadata": {
        "id": "nu9ohIDSUmuJ"
      },
      "execution_count": 3,
      "outputs": []
    },
    {
      "cell_type": "code",
      "source": [
        "warnings.filterwarnings('ignore')\n",
        "pd.options.display.float_format = '{:.4%}'.format"
      ],
      "metadata": {
        "id": "sFRKsDJnUvXD"
      },
      "execution_count": 4,
      "outputs": []
    },
    {
      "cell_type": "code",
      "source": [
        "#date adjustment\n",
        "\n",
        "start = '2021-04-30'\n",
        "end = '2022-05-01'"
      ],
      "metadata": {
        "id": "n75Z_4q9U93G"
      },
      "execution_count": 5,
      "outputs": []
    },
    {
      "cell_type": "code",
      "source": [
        "assets = ['RH', 'APO', 'KKR', 'HCA', 'CTLT', 'RDNT', 'HUN', \n",
        "          'SRCL', 'SU', 'GDDY', 'FTNT']\n",
        "\n",
        "assets.sort()"
      ],
      "metadata": {
        "id": "byeJjL1QVMep"
      },
      "execution_count": 6,
      "outputs": []
    },
    {
      "cell_type": "code",
      "source": [
        "data = yf.download(assets, start=start, end=end)\n",
        "data = data.loc[:,('Adj Close', slice(None))]\n",
        "data.columns = assets"
      ],
      "metadata": {
        "colab": {
          "base_uri": "https://localhost:8080/"
        },
        "id": "PuNfKA7bV6KK",
        "outputId": "2d6c9135-f135-4c3f-a9b9-a8541e14598a"
      },
      "execution_count": 7,
      "outputs": [
        {
          "output_type": "stream",
          "name": "stdout",
          "text": [
            "[*********************100%***********************]  11 of 11 completed\n"
          ]
        }
      ]
    },
    {
      "cell_type": "code",
      "source": [
        "print(data)"
      ],
      "metadata": {
        "colab": {
          "base_uri": "https://localhost:8080/"
        },
        "id": "Q0oOiM59WnhS",
        "outputId": "2df95b4d-dbaa-4673-f5e4-1f881dcd10cc"
      },
      "execution_count": 8,
      "outputs": [
        {
          "output_type": "stream",
          "name": "stdout",
          "text": [
            "                  APO        CTLT       FTNT       GDDY         HCA  \\\n",
            "Date                                                                  \n",
            "2021-04-30 5298.2197% 11247.0001% 4084.6001% 8682.0000% 19878.1311%   \n",
            "2021-05-03 5269.5137% 11177.9999% 4063.6002% 8548.0003% 20219.2215%   \n",
            "2021-05-04 5262.8159% 10350.0000% 4135.5999% 8241.9998% 20400.1480%   \n",
            "2021-05-05 5419.7433% 10648.0003% 4187.5999% 8223.9998% 20548.4467%   \n",
            "2021-05-06 5472.3709% 10618.0000% 4130.1998% 8119.0002% 20695.7596%   \n",
            "...               ...         ...        ...        ...         ...   \n",
            "2022-04-25 5362.7857%  9013.9999% 6469.7998% 8741.0004% 20984.2484%   \n",
            "2022-04-26 5043.3258%  8719.9997% 6129.9999% 8541.9998% 21426.8616%   \n",
            "2022-04-27 5020.6474%  8826.0002% 6006.3999% 8518.0000% 21156.7078%   \n",
            "2022-04-28 5157.7003%  8990.0002% 6173.0000% 8733.0002% 21825.6119%   \n",
            "2022-04-29 4906.2733%  9055.9998% 5780.1998% 8080.9998% 21387.9837%   \n",
            "\n",
            "                  HUN        KKR       RDNT          RH       SRCL         SU  \n",
            "Date                                                                           \n",
            "2021-04-30 2776.1576% 5573.8972% 2234.0000% 68802.0020% 7627.9999% 2015.6437%  \n",
            "2021-05-03 2877.8309% 5543.3582% 2287.9999% 69904.9988% 7541.9998% 2064.5760%  \n",
            "2021-05-04 2991.1236% 5480.3093% 2298.0000% 68720.0012% 7687.9997% 2059.8711%  \n",
            "2021-05-05 3024.0463% 5724.6227% 2249.0000% 68115.9973% 7662.0003% 2140.7978%  \n",
            "2021-05-06 3023.0780% 5682.2620% 2292.0000% 68496.9971% 7665.0002% 2163.3821%  \n",
            "...               ...        ...        ...         ...        ...        ...  \n",
            "2022-04-25 3395.6062% 5268.5394% 2052.0000% 33736.9995% 5502.9999% 3063.3600%  \n",
            "2022-04-26 3306.2222% 5057.7980% 1953.0001% 33258.9996% 5477.9999% 3104.5183%  \n",
            "2022-04-27 3425.4013% 5137.3230% 1937.9999% 34051.0010% 5634.9998% 3222.1138%  \n",
            "2022-04-28 3345.9484% 5226.7891% 1954.0001% 35300.0000% 5145.0001% 3615.0784%  \n",
            "2022-04-29 3363.8252% 5066.7442% 1950.0000% 33611.9995% 5018.9999% 3521.9818%  \n",
            "\n",
            "[253 rows x 11 columns]\n"
          ]
        }
      ]
    },
    {
      "cell_type": "code",
      "source": [
        "Y = data[assets].pct_change().dropna()\n",
        "\n",
        "display(Y.head())"
      ],
      "metadata": {
        "colab": {
          "base_uri": "https://localhost:8080/",
          "height": 388
        },
        "id": "lgulwruyWNqj",
        "outputId": "04d6197b-e5d0-4454-edd4-c8c9a61eaba8"
      },
      "execution_count": 9,
      "outputs": [
        {
          "output_type": "display_data",
          "data": {
            "text/plain": [
              "                APO     CTLT     FTNT     GDDY     HCA      HUN      KKR  \\\n",
              "Date                                                                       \n",
              "2021-05-03 -0.5418% -0.6135% -0.5141% -1.5434% 1.7159%  3.6624% -0.5479%   \n",
              "2021-05-04 -0.1271% -7.4074%  1.7718% -3.5798% 0.8948%  3.9367% -1.1374%   \n",
              "2021-05-05  2.9818%  2.8792%  1.2574% -0.2184% 0.7269%  1.1007%  4.4580%   \n",
              "2021-05-06  0.9710% -0.2817% -1.3707% -1.2767% 0.7169% -0.0320% -0.7400%   \n",
              "2021-05-07  1.8010%  1.2997%  2.5471% -0.1601% 0.5685%  1.2812%  1.8031%   \n",
              "\n",
              "               RDNT       RH     SRCL       SU  \n",
              "Date                                            \n",
              "2021-05-03  2.4172%  1.6031% -1.1274%  2.4276%  \n",
              "2021-05-04  0.4371% -1.6952%  1.9358% -0.2279%  \n",
              "2021-05-05 -2.1323% -0.8789% -0.3382%  3.9287%  \n",
              "2021-05-06  1.9120%  0.5593%  0.0392%  1.0549%  \n",
              "2021-05-07  1.5271%  2.3403%  0.4305%  2.7838%  "
            ],
            "text/html": [
              "\n",
              "  <div id=\"df-65d9e74b-34a4-43f2-aede-fd00db2bf0c6\">\n",
              "    <div class=\"colab-df-container\">\n",
              "      <div>\n",
              "<style scoped>\n",
              "    .dataframe tbody tr th:only-of-type {\n",
              "        vertical-align: middle;\n",
              "    }\n",
              "\n",
              "    .dataframe tbody tr th {\n",
              "        vertical-align: top;\n",
              "    }\n",
              "\n",
              "    .dataframe thead th {\n",
              "        text-align: right;\n",
              "    }\n",
              "</style>\n",
              "<table border=\"1\" class=\"dataframe\">\n",
              "  <thead>\n",
              "    <tr style=\"text-align: right;\">\n",
              "      <th></th>\n",
              "      <th>APO</th>\n",
              "      <th>CTLT</th>\n",
              "      <th>FTNT</th>\n",
              "      <th>GDDY</th>\n",
              "      <th>HCA</th>\n",
              "      <th>HUN</th>\n",
              "      <th>KKR</th>\n",
              "      <th>RDNT</th>\n",
              "      <th>RH</th>\n",
              "      <th>SRCL</th>\n",
              "      <th>SU</th>\n",
              "    </tr>\n",
              "    <tr>\n",
              "      <th>Date</th>\n",
              "      <th></th>\n",
              "      <th></th>\n",
              "      <th></th>\n",
              "      <th></th>\n",
              "      <th></th>\n",
              "      <th></th>\n",
              "      <th></th>\n",
              "      <th></th>\n",
              "      <th></th>\n",
              "      <th></th>\n",
              "      <th></th>\n",
              "    </tr>\n",
              "  </thead>\n",
              "  <tbody>\n",
              "    <tr>\n",
              "      <th>2021-05-03</th>\n",
              "      <td>-0.5418%</td>\n",
              "      <td>-0.6135%</td>\n",
              "      <td>-0.5141%</td>\n",
              "      <td>-1.5434%</td>\n",
              "      <td>1.7159%</td>\n",
              "      <td>3.6624%</td>\n",
              "      <td>-0.5479%</td>\n",
              "      <td>2.4172%</td>\n",
              "      <td>1.6031%</td>\n",
              "      <td>-1.1274%</td>\n",
              "      <td>2.4276%</td>\n",
              "    </tr>\n",
              "    <tr>\n",
              "      <th>2021-05-04</th>\n",
              "      <td>-0.1271%</td>\n",
              "      <td>-7.4074%</td>\n",
              "      <td>1.7718%</td>\n",
              "      <td>-3.5798%</td>\n",
              "      <td>0.8948%</td>\n",
              "      <td>3.9367%</td>\n",
              "      <td>-1.1374%</td>\n",
              "      <td>0.4371%</td>\n",
              "      <td>-1.6952%</td>\n",
              "      <td>1.9358%</td>\n",
              "      <td>-0.2279%</td>\n",
              "    </tr>\n",
              "    <tr>\n",
              "      <th>2021-05-05</th>\n",
              "      <td>2.9818%</td>\n",
              "      <td>2.8792%</td>\n",
              "      <td>1.2574%</td>\n",
              "      <td>-0.2184%</td>\n",
              "      <td>0.7269%</td>\n",
              "      <td>1.1007%</td>\n",
              "      <td>4.4580%</td>\n",
              "      <td>-2.1323%</td>\n",
              "      <td>-0.8789%</td>\n",
              "      <td>-0.3382%</td>\n",
              "      <td>3.9287%</td>\n",
              "    </tr>\n",
              "    <tr>\n",
              "      <th>2021-05-06</th>\n",
              "      <td>0.9710%</td>\n",
              "      <td>-0.2817%</td>\n",
              "      <td>-1.3707%</td>\n",
              "      <td>-1.2767%</td>\n",
              "      <td>0.7169%</td>\n",
              "      <td>-0.0320%</td>\n",
              "      <td>-0.7400%</td>\n",
              "      <td>1.9120%</td>\n",
              "      <td>0.5593%</td>\n",
              "      <td>0.0392%</td>\n",
              "      <td>1.0549%</td>\n",
              "    </tr>\n",
              "    <tr>\n",
              "      <th>2021-05-07</th>\n",
              "      <td>1.8010%</td>\n",
              "      <td>1.2997%</td>\n",
              "      <td>2.5471%</td>\n",
              "      <td>-0.1601%</td>\n",
              "      <td>0.5685%</td>\n",
              "      <td>1.2812%</td>\n",
              "      <td>1.8031%</td>\n",
              "      <td>1.5271%</td>\n",
              "      <td>2.3403%</td>\n",
              "      <td>0.4305%</td>\n",
              "      <td>2.7838%</td>\n",
              "    </tr>\n",
              "  </tbody>\n",
              "</table>\n",
              "</div>\n",
              "      <button class=\"colab-df-convert\" onclick=\"convertToInteractive('df-65d9e74b-34a4-43f2-aede-fd00db2bf0c6')\"\n",
              "              title=\"Convert this dataframe to an interactive table.\"\n",
              "              style=\"display:none;\">\n",
              "        \n",
              "  <svg xmlns=\"http://www.w3.org/2000/svg\" height=\"24px\"viewBox=\"0 0 24 24\"\n",
              "       width=\"24px\">\n",
              "    <path d=\"M0 0h24v24H0V0z\" fill=\"none\"/>\n",
              "    <path d=\"M18.56 5.44l.94 2.06.94-2.06 2.06-.94-2.06-.94-.94-2.06-.94 2.06-2.06.94zm-11 1L8.5 8.5l.94-2.06 2.06-.94-2.06-.94L8.5 2.5l-.94 2.06-2.06.94zm10 10l.94 2.06.94-2.06 2.06-.94-2.06-.94-.94-2.06-.94 2.06-2.06.94z\"/><path d=\"M17.41 7.96l-1.37-1.37c-.4-.4-.92-.59-1.43-.59-.52 0-1.04.2-1.43.59L10.3 9.45l-7.72 7.72c-.78.78-.78 2.05 0 2.83L4 21.41c.39.39.9.59 1.41.59.51 0 1.02-.2 1.41-.59l7.78-7.78 2.81-2.81c.8-.78.8-2.07 0-2.86zM5.41 20L4 18.59l7.72-7.72 1.47 1.35L5.41 20z\"/>\n",
              "  </svg>\n",
              "      </button>\n",
              "      \n",
              "  <style>\n",
              "    .colab-df-container {\n",
              "      display:flex;\n",
              "      flex-wrap:wrap;\n",
              "      gap: 12px;\n",
              "    }\n",
              "\n",
              "    .colab-df-convert {\n",
              "      background-color: #E8F0FE;\n",
              "      border: none;\n",
              "      border-radius: 50%;\n",
              "      cursor: pointer;\n",
              "      display: none;\n",
              "      fill: #1967D2;\n",
              "      height: 32px;\n",
              "      padding: 0 0 0 0;\n",
              "      width: 32px;\n",
              "    }\n",
              "\n",
              "    .colab-df-convert:hover {\n",
              "      background-color: #E2EBFA;\n",
              "      box-shadow: 0px 1px 2px rgba(60, 64, 67, 0.3), 0px 1px 3px 1px rgba(60, 64, 67, 0.15);\n",
              "      fill: #174EA6;\n",
              "    }\n",
              "\n",
              "    [theme=dark] .colab-df-convert {\n",
              "      background-color: #3B4455;\n",
              "      fill: #D2E3FC;\n",
              "    }\n",
              "\n",
              "    [theme=dark] .colab-df-convert:hover {\n",
              "      background-color: #434B5C;\n",
              "      box-shadow: 0px 1px 3px 1px rgba(0, 0, 0, 0.15);\n",
              "      filter: drop-shadow(0px 1px 2px rgba(0, 0, 0, 0.3));\n",
              "      fill: #FFFFFF;\n",
              "    }\n",
              "  </style>\n",
              "\n",
              "      <script>\n",
              "        const buttonEl =\n",
              "          document.querySelector('#df-65d9e74b-34a4-43f2-aede-fd00db2bf0c6 button.colab-df-convert');\n",
              "        buttonEl.style.display =\n",
              "          google.colab.kernel.accessAllowed ? 'block' : 'none';\n",
              "\n",
              "        async function convertToInteractive(key) {\n",
              "          const element = document.querySelector('#df-65d9e74b-34a4-43f2-aede-fd00db2bf0c6');\n",
              "          const dataTable =\n",
              "            await google.colab.kernel.invokeFunction('convertToInteractive',\n",
              "                                                     [key], {});\n",
              "          if (!dataTable) return;\n",
              "\n",
              "          const docLinkHtml = 'Like what you see? Visit the ' +\n",
              "            '<a target=\"_blank\" href=https://colab.research.google.com/notebooks/data_table.ipynb>data table notebook</a>'\n",
              "            + ' to learn more about interactive tables.';\n",
              "          element.innerHTML = '';\n",
              "          dataTable['output_type'] = 'display_data';\n",
              "          await google.colab.output.renderOutput(dataTable, element);\n",
              "          const docLink = document.createElement('div');\n",
              "          docLink.innerHTML = docLinkHtml;\n",
              "          element.appendChild(docLink);\n",
              "        }\n",
              "      </script>\n",
              "    </div>\n",
              "  </div>\n",
              "  "
            ]
          },
          "metadata": {}
        }
      ]
    },
    {
      "cell_type": "code",
      "source": [
        "import riskfolio.Portfolio \n",
        "import riskfolio as pf"
      ],
      "metadata": {
        "id": "5IWW6o0cc4We"
      },
      "execution_count": 10,
      "outputs": []
    },
    {
      "cell_type": "code",
      "source": [
        "port = pf.Portfolio(returns=Y)\n",
        "\n",
        "method_mu='hist'\n",
        "method_cov='hist' \n",
        "port.assets_stats(method_mu=method_mu, method_cov=method_cov, d=0.94)\n",
        "model='Classic'\n",
        "rm = 'MV'\n",
        "obj = 'Sharpe'\n",
        "hist = True\n",
        "rf = 0\n",
        "l = 0"
      ],
      "metadata": {
        "id": "si757__-cnwm"
      },
      "execution_count": 11,
      "outputs": []
    },
    {
      "cell_type": "code",
      "source": [
        "w = port.optimization(model=model, rm=rm, obj=obj, rf=rf, l=l, hist=hist)\n",
        "display(w.T)"
      ],
      "metadata": {
        "colab": {
          "base_uri": "https://localhost:8080/",
          "height": 145
        },
        "id": "BonSk6IBcycb",
        "outputId": "4a090d65-211d-4b15-a893-959c4f4dd416"
      },
      "execution_count": 12,
      "outputs": [
        {
          "output_type": "display_data",
          "data": {
            "text/plain": [
              "            APO    CTLT     FTNT    GDDY     HCA     HUN     KKR    RDNT  \\\n",
              "weights 0.0000% 0.0000% 30.0798% 0.0000% 0.0000% 9.9165% 0.0000% 0.0000%   \n",
              "\n",
              "             RH    SRCL       SU  \n",
              "weights 0.0000% 0.0000% 60.0036%  "
            ],
            "text/html": [
              "\n",
              "  <div id=\"df-d1193ed6-ff2a-4fd6-9d69-53a7e24543ef\">\n",
              "    <div class=\"colab-df-container\">\n",
              "      <div>\n",
              "<style scoped>\n",
              "    .dataframe tbody tr th:only-of-type {\n",
              "        vertical-align: middle;\n",
              "    }\n",
              "\n",
              "    .dataframe tbody tr th {\n",
              "        vertical-align: top;\n",
              "    }\n",
              "\n",
              "    .dataframe thead th {\n",
              "        text-align: right;\n",
              "    }\n",
              "</style>\n",
              "<table border=\"1\" class=\"dataframe\">\n",
              "  <thead>\n",
              "    <tr style=\"text-align: right;\">\n",
              "      <th></th>\n",
              "      <th>APO</th>\n",
              "      <th>CTLT</th>\n",
              "      <th>FTNT</th>\n",
              "      <th>GDDY</th>\n",
              "      <th>HCA</th>\n",
              "      <th>HUN</th>\n",
              "      <th>KKR</th>\n",
              "      <th>RDNT</th>\n",
              "      <th>RH</th>\n",
              "      <th>SRCL</th>\n",
              "      <th>SU</th>\n",
              "    </tr>\n",
              "  </thead>\n",
              "  <tbody>\n",
              "    <tr>\n",
              "      <th>weights</th>\n",
              "      <td>0.0000%</td>\n",
              "      <td>0.0000%</td>\n",
              "      <td>30.0798%</td>\n",
              "      <td>0.0000%</td>\n",
              "      <td>0.0000%</td>\n",
              "      <td>9.9165%</td>\n",
              "      <td>0.0000%</td>\n",
              "      <td>0.0000%</td>\n",
              "      <td>0.0000%</td>\n",
              "      <td>0.0000%</td>\n",
              "      <td>60.0036%</td>\n",
              "    </tr>\n",
              "  </tbody>\n",
              "</table>\n",
              "</div>\n",
              "      <button class=\"colab-df-convert\" onclick=\"convertToInteractive('df-d1193ed6-ff2a-4fd6-9d69-53a7e24543ef')\"\n",
              "              title=\"Convert this dataframe to an interactive table.\"\n",
              "              style=\"display:none;\">\n",
              "        \n",
              "  <svg xmlns=\"http://www.w3.org/2000/svg\" height=\"24px\"viewBox=\"0 0 24 24\"\n",
              "       width=\"24px\">\n",
              "    <path d=\"M0 0h24v24H0V0z\" fill=\"none\"/>\n",
              "    <path d=\"M18.56 5.44l.94 2.06.94-2.06 2.06-.94-2.06-.94-.94-2.06-.94 2.06-2.06.94zm-11 1L8.5 8.5l.94-2.06 2.06-.94-2.06-.94L8.5 2.5l-.94 2.06-2.06.94zm10 10l.94 2.06.94-2.06 2.06-.94-2.06-.94-.94-2.06-.94 2.06-2.06.94z\"/><path d=\"M17.41 7.96l-1.37-1.37c-.4-.4-.92-.59-1.43-.59-.52 0-1.04.2-1.43.59L10.3 9.45l-7.72 7.72c-.78.78-.78 2.05 0 2.83L4 21.41c.39.39.9.59 1.41.59.51 0 1.02-.2 1.41-.59l7.78-7.78 2.81-2.81c.8-.78.8-2.07 0-2.86zM5.41 20L4 18.59l7.72-7.72 1.47 1.35L5.41 20z\"/>\n",
              "  </svg>\n",
              "      </button>\n",
              "      \n",
              "  <style>\n",
              "    .colab-df-container {\n",
              "      display:flex;\n",
              "      flex-wrap:wrap;\n",
              "      gap: 12px;\n",
              "    }\n",
              "\n",
              "    .colab-df-convert {\n",
              "      background-color: #E8F0FE;\n",
              "      border: none;\n",
              "      border-radius: 50%;\n",
              "      cursor: pointer;\n",
              "      display: none;\n",
              "      fill: #1967D2;\n",
              "      height: 32px;\n",
              "      padding: 0 0 0 0;\n",
              "      width: 32px;\n",
              "    }\n",
              "\n",
              "    .colab-df-convert:hover {\n",
              "      background-color: #E2EBFA;\n",
              "      box-shadow: 0px 1px 2px rgba(60, 64, 67, 0.3), 0px 1px 3px 1px rgba(60, 64, 67, 0.15);\n",
              "      fill: #174EA6;\n",
              "    }\n",
              "\n",
              "    [theme=dark] .colab-df-convert {\n",
              "      background-color: #3B4455;\n",
              "      fill: #D2E3FC;\n",
              "    }\n",
              "\n",
              "    [theme=dark] .colab-df-convert:hover {\n",
              "      background-color: #434B5C;\n",
              "      box-shadow: 0px 1px 3px 1px rgba(0, 0, 0, 0.15);\n",
              "      filter: drop-shadow(0px 1px 2px rgba(0, 0, 0, 0.3));\n",
              "      fill: #FFFFFF;\n",
              "    }\n",
              "  </style>\n",
              "\n",
              "      <script>\n",
              "        const buttonEl =\n",
              "          document.querySelector('#df-d1193ed6-ff2a-4fd6-9d69-53a7e24543ef button.colab-df-convert');\n",
              "        buttonEl.style.display =\n",
              "          google.colab.kernel.accessAllowed ? 'block' : 'none';\n",
              "\n",
              "        async function convertToInteractive(key) {\n",
              "          const element = document.querySelector('#df-d1193ed6-ff2a-4fd6-9d69-53a7e24543ef');\n",
              "          const dataTable =\n",
              "            await google.colab.kernel.invokeFunction('convertToInteractive',\n",
              "                                                     [key], {});\n",
              "          if (!dataTable) return;\n",
              "\n",
              "          const docLinkHtml = 'Like what you see? Visit the ' +\n",
              "            '<a target=\"_blank\" href=https://colab.research.google.com/notebooks/data_table.ipynb>data table notebook</a>'\n",
              "            + ' to learn more about interactive tables.';\n",
              "          element.innerHTML = '';\n",
              "          dataTable['output_type'] = 'display_data';\n",
              "          await google.colab.output.renderOutput(dataTable, element);\n",
              "          const docLink = document.createElement('div');\n",
              "          docLink.innerHTML = docLinkHtml;\n",
              "          element.appendChild(docLink);\n",
              "        }\n",
              "      </script>\n",
              "    </div>\n",
              "  </div>\n",
              "  "
            ]
          },
          "metadata": {}
        }
      ]
    },
    {
      "cell_type": "code",
      "source": [
        "import riskfolio.PlotFunctions as plf"
      ],
      "metadata": {
        "id": "AYSzefROdEiC"
      },
      "execution_count": 13,
      "outputs": []
    },
    {
      "cell_type": "code",
      "source": [
        "!pip install --upgrade --force-reinstall matplotlib"
      ],
      "metadata": {
        "colab": {
          "base_uri": "https://localhost:8080/",
          "height": 1000
        },
        "id": "X9lJJ7BOdV29",
        "outputId": "afc11be4-9130-4264-80cf-c4dd4e313fa2"
      },
      "execution_count": 14,
      "outputs": [
        {
          "output_type": "stream",
          "name": "stdout",
          "text": [
            "Looking in indexes: https://pypi.org/simple, https://us-python.pkg.dev/colab-wheels/public/simple/\n",
            "Collecting matplotlib\n",
            "  Using cached matplotlib-3.5.3-cp37-cp37m-manylinux_2_5_x86_64.manylinux1_x86_64.whl (11.2 MB)\n",
            "Collecting pillow>=6.2.0\n",
            "  Using cached Pillow-9.2.0-cp37-cp37m-manylinux_2_17_x86_64.manylinux2014_x86_64.whl (3.1 MB)\n",
            "Collecting kiwisolver>=1.0.1\n",
            "  Using cached kiwisolver-1.4.4-cp37-cp37m-manylinux_2_5_x86_64.manylinux1_x86_64.whl (1.1 MB)\n",
            "Collecting cycler>=0.10\n",
            "  Using cached cycler-0.11.0-py3-none-any.whl (6.4 kB)\n",
            "Collecting fonttools>=4.22.0\n",
            "  Using cached fonttools-4.37.1-py3-none-any.whl (957 kB)\n",
            "Collecting python-dateutil>=2.7\n",
            "  Using cached python_dateutil-2.8.2-py2.py3-none-any.whl (247 kB)\n",
            "Collecting pyparsing>=2.2.1\n",
            "  Using cached pyparsing-3.0.9-py3-none-any.whl (98 kB)\n",
            "Collecting packaging>=20.0\n",
            "  Using cached packaging-21.3-py3-none-any.whl (40 kB)\n",
            "Collecting numpy>=1.17\n",
            "  Using cached numpy-1.21.6-cp37-cp37m-manylinux_2_12_x86_64.manylinux2010_x86_64.whl (15.7 MB)\n",
            "Collecting typing-extensions\n",
            "  Using cached typing_extensions-4.3.0-py3-none-any.whl (25 kB)\n",
            "Collecting six>=1.5\n",
            "  Using cached six-1.16.0-py2.py3-none-any.whl (11 kB)\n",
            "Installing collected packages: typing-extensions, six, pyparsing, python-dateutil, pillow, packaging, numpy, kiwisolver, fonttools, cycler, matplotlib\n",
            "  Attempting uninstall: typing-extensions\n",
            "    Found existing installation: typing-extensions 4.3.0\n",
            "    Uninstalling typing-extensions-4.3.0:\n",
            "      Successfully uninstalled typing-extensions-4.3.0\n",
            "  Attempting uninstall: six\n",
            "    Found existing installation: six 1.16.0\n",
            "    Uninstalling six-1.16.0:\n",
            "      Successfully uninstalled six-1.16.0\n",
            "  Attempting uninstall: pyparsing\n",
            "    Found existing installation: pyparsing 3.0.9\n",
            "    Uninstalling pyparsing-3.0.9:\n",
            "      Successfully uninstalled pyparsing-3.0.9\n",
            "  Attempting uninstall: python-dateutil\n",
            "    Found existing installation: python-dateutil 2.8.2\n",
            "    Uninstalling python-dateutil-2.8.2:\n",
            "      Successfully uninstalled python-dateutil-2.8.2\n",
            "  Attempting uninstall: pillow\n",
            "    Found existing installation: Pillow 9.2.0\n",
            "    Uninstalling Pillow-9.2.0:\n",
            "      Successfully uninstalled Pillow-9.2.0\n",
            "  Attempting uninstall: packaging\n",
            "    Found existing installation: packaging 21.3\n",
            "    Uninstalling packaging-21.3:\n",
            "      Successfully uninstalled packaging-21.3\n",
            "  Attempting uninstall: numpy\n",
            "    Found existing installation: numpy 1.21.6\n",
            "    Uninstalling numpy-1.21.6:\n",
            "      Successfully uninstalled numpy-1.21.6\n",
            "  Attempting uninstall: kiwisolver\n",
            "    Found existing installation: kiwisolver 1.4.4\n",
            "    Uninstalling kiwisolver-1.4.4:\n",
            "      Successfully uninstalled kiwisolver-1.4.4\n",
            "  Attempting uninstall: fonttools\n",
            "    Found existing installation: fonttools 4.37.1\n",
            "    Uninstalling fonttools-4.37.1:\n",
            "      Successfully uninstalled fonttools-4.37.1\n",
            "  Attempting uninstall: cycler\n",
            "    Found existing installation: cycler 0.11.0\n",
            "    Uninstalling cycler-0.11.0:\n",
            "      Successfully uninstalled cycler-0.11.0\n",
            "  Attempting uninstall: matplotlib\n",
            "    Found existing installation: matplotlib 3.5.3\n",
            "    Uninstalling matplotlib-3.5.3:\n",
            "      Successfully uninstalled matplotlib-3.5.3\n",
            "\u001b[31mERROR: pip's dependency resolver does not currently take into account all the packages that are installed. This behaviour is the source of the following dependency conflicts.\n",
            "ipython 7.9.0 requires jedi>=0.10, which is not installed.\n",
            "thinc 8.1.0 requires typing-extensions<4.2.0,>=3.7.4.1; python_version < \"3.8\", but you have typing-extensions 4.3.0 which is incompatible.\n",
            "spacy 3.4.1 requires typing-extensions<4.2.0,>=3.7.4; python_version < \"3.8\", but you have typing-extensions 4.3.0 which is incompatible.\u001b[0m\n",
            "Successfully installed cycler-0.11.0 fonttools-4.37.1 kiwisolver-1.4.4 matplotlib-3.5.3 numpy-1.21.6 packaging-21.3 pillow-9.2.0 pyparsing-3.0.9 python-dateutil-2.8.2 six-1.16.0 typing-extensions-4.3.0\n"
          ]
        },
        {
          "output_type": "display_data",
          "data": {
            "application/vnd.colab-display-data+json": {
              "pip_warning": {
                "packages": [
                  "PIL",
                  "cycler",
                  "dateutil",
                  "kiwisolver",
                  "matplotlib",
                  "mpl_toolkits",
                  "numpy",
                  "packaging",
                  "six"
                ]
              }
            }
          },
          "metadata": {}
        }
      ]
    },
    {
      "cell_type": "code",
      "source": [
        "ax = plf.plot_pie(w=w, title='Sharpe Mean Variance', nrow=25, cmap = \"tab20\", height=6, width=10, ax=None)"
      ],
      "metadata": {
        "colab": {
          "base_uri": "https://localhost:8080/",
          "height": 441
        },
        "id": "H6dE6LjmdGdm",
        "outputId": "19e72e91-f4f3-4545-ca5f-4d7b2256c8f5"
      },
      "execution_count": 15,
      "outputs": [
        {
          "output_type": "display_data",
          "data": {
            "text/plain": [
              "<Figure size 720x432 with 1 Axes>"
            ],
            "image/png": "[encoded data removed]"
          },
          "metadata": {}
        }
      ]
    },
    {
      "cell_type": "code",
      "source": [
        "points = 50\n",
        "frontier = port.efficient_frontier(model=model, rm=rm, points=points, rf=rf, hist=hist)"
      ],
      "metadata": {
        "id": "Buif5EJ8d7Cs"
      },
      "execution_count": 16,
      "outputs": []
    },
    {
      "cell_type": "code",
      "source": [
        "display(frontier.T.head())"
      ],
      "metadata": {
        "colab": {
          "base_uri": "https://localhost:8080/",
          "height": 250
        },
        "id": "ywAnmgD3eAMH",
        "outputId": "c2bb1ca9-69ae-4df2-e784-8832c2195112"
      },
      "execution_count": 17,
      "outputs": [
        {
          "output_type": "display_data",
          "data": {
            "text/plain": [
              "      APO     CTLT    FTNT     GDDY      HCA      HUN     KKR    RDNT      RH  \\\n",
              "0 0.0000% 19.9972% 0.0000% 11.1908%  8.5362% 12.5690% 0.0000% 0.0000% 0.0000%   \n",
              "1 0.0000% 18.6453% 0.0000% 11.9873% 11.7782% 17.2286% 0.0000% 0.0000% 0.0000%   \n",
              "2 0.0000% 17.2042% 1.9030% 11.5322% 12.5760% 18.6347% 0.0000% 0.0000% 0.0000%   \n",
              "3 0.0000% 15.9023% 3.7334% 11.0446% 13.1424% 19.6982% 0.0000% 0.0000% 0.0000%   \n",
              "4 0.0000% 14.7611% 5.3375% 10.6179% 13.6373% 20.6285% 0.0000% 0.0000% 0.0000%   \n",
              "\n",
              "      SRCL       SU  \n",
              "0 32.4501% 15.2567%  \n",
              "1 19.5475% 20.8131%  \n",
              "2 15.2961% 22.8539%  \n",
              "3 12.0072% 24.4718%  \n",
              "4  9.1293% 25.8884%  "
            ],
            "text/html": [
              "\n",
              "  <div id=\"df-a5a2bfda-975a-4020-89ed-aa94b7c768f6\">\n",
              "    <div class=\"colab-df-container\">\n",
              "      <div>\n",
              "<style scoped>\n",
              "    .dataframe tbody tr th:only-of-type {\n",
              "        vertical-align: middle;\n",
              "    }\n",
              "\n",
              "    .dataframe tbody tr th {\n",
              "        vertical-align: top;\n",
              "    }\n",
              "\n",
              "    .dataframe thead th {\n",
              "        text-align: right;\n",
              "    }\n",
              "</style>\n",
              "<table border=\"1\" class=\"dataframe\">\n",
              "  <thead>\n",
              "    <tr style=\"text-align: right;\">\n",
              "      <th></th>\n",
              "      <th>APO</th>\n",
              "      <th>CTLT</th>\n",
              "      <th>FTNT</th>\n",
              "      <th>GDDY</th>\n",
              "      <th>HCA</th>\n",
              "      <th>HUN</th>\n",
              "      <th>KKR</th>\n",
              "      <th>RDNT</th>\n",
              "      <th>RH</th>\n",
              "      <th>SRCL</th>\n",
              "      <th>SU</th>\n",
              "    </tr>\n",
              "  </thead>\n",
              "  <tbody>\n",
              "    <tr>\n",
              "      <th>0</th>\n",
              "      <td>0.0000%</td>\n",
              "      <td>19.9972%</td>\n",
              "      <td>0.0000%</td>\n",
              "      <td>11.1908%</td>\n",
              "      <td>8.5362%</td>\n",
              "      <td>12.5690%</td>\n",
              "      <td>0.0000%</td>\n",
              "      <td>0.0000%</td>\n",
              "      <td>0.0000%</td>\n",
              "      <td>32.4501%</td>\n",
              "      <td>15.2567%</td>\n",
              "    </tr>\n",
              "    <tr>\n",
              "      <th>1</th>\n",
              "      <td>0.0000%</td>\n",
              "      <td>18.6453%</td>\n",
              "      <td>0.0000%</td>\n",
              "      <td>11.9873%</td>\n",
              "      <td>11.7782%</td>\n",
              "      <td>17.2286%</td>\n",
              "      <td>0.0000%</td>\n",
              "      <td>0.0000%</td>\n",
              "      <td>0.0000%</td>\n",
              "      <td>19.5475%</td>\n",
              "      <td>20.8131%</td>\n",
              "    </tr>\n",
              "    <tr>\n",
              "      <th>2</th>\n",
              "      <td>0.0000%</td>\n",
              "      <td>17.2042%</td>\n",
              "      <td>1.9030%</td>\n",
              "      <td>11.5322%</td>\n",
              "      <td>12.5760%</td>\n",
              "      <td>18.6347%</td>\n",
              "      <td>0.0000%</td>\n",
              "      <td>0.0000%</td>\n",
              "      <td>0.0000%</td>\n",
              "      <td>15.2961%</td>\n",
              "      <td>22.8539%</td>\n",
              "    </tr>\n",
              "    <tr>\n",
              "      <th>3</th>\n",
              "      <td>0.0000%</td>\n",
              "      <td>15.9023%</td>\n",
              "      <td>3.7334%</td>\n",
              "      <td>11.0446%</td>\n",
              "      <td>13.1424%</td>\n",
              "      <td>19.6982%</td>\n",
              "      <td>0.0000%</td>\n",
              "      <td>0.0000%</td>\n",
              "      <td>0.0000%</td>\n",
              "      <td>12.0072%</td>\n",
              "      <td>24.4718%</td>\n",
              "    </tr>\n",
              "    <tr>\n",
              "      <th>4</th>\n",
              "      <td>0.0000%</td>\n",
              "      <td>14.7611%</td>\n",
              "      <td>5.3375%</td>\n",
              "      <td>10.6179%</td>\n",
              "      <td>13.6373%</td>\n",
              "      <td>20.6285%</td>\n",
              "      <td>0.0000%</td>\n",
              "      <td>0.0000%</td>\n",
              "      <td>0.0000%</td>\n",
              "      <td>9.1293%</td>\n",
              "      <td>25.8884%</td>\n",
              "    </tr>\n",
              "  </tbody>\n",
              "</table>\n",
              "</div>\n",
              "      <button class=\"colab-df-convert\" onclick=\"convertToInteractive('df-a5a2bfda-975a-4020-89ed-aa94b7c768f6')\"\n",
              "              title=\"Convert this dataframe to an interactive table.\"\n",
              "              style=\"display:none;\">\n",
              "        \n",
              "  <svg xmlns=\"http://www.w3.org/2000/svg\" height=\"24px\"viewBox=\"0 0 24 24\"\n",
              "       width=\"24px\">\n",
              "    <path d=\"M0 0h24v24H0V0z\" fill=\"none\"/>\n",
              "    <path d=\"M18.56 5.44l.94 2.06.94-2.06 2.06-.94-2.06-.94-.94-2.06-.94 2.06-2.06.94zm-11 1L8.5 8.5l.94-2.06 2.06-.94-2.06-.94L8.5 2.5l-.94 2.06-2.06.94zm10 10l.94 2.06.94-2.06 2.06-.94-2.06-.94-.94-2.06-.94 2.06-2.06.94z\"/><path d=\"M17.41 7.96l-1.37-1.37c-.4-.4-.92-.59-1.43-.59-.52 0-1.04.2-1.43.59L10.3 9.45l-7.72 7.72c-.78.78-.78 2.05 0 2.83L4 21.41c.39.39.9.59 1.41.59.51 0 1.02-.2 1.41-.59l7.78-7.78 2.81-2.81c.8-.78.8-2.07 0-2.86zM5.41 20L4 18.59l7.72-7.72 1.47 1.35L5.41 20z\"/>\n",
              "  </svg>\n",
              "      </button>\n",
              "      \n",
              "  <style>\n",
              "    .colab-df-container {\n",
              "      display:flex;\n",
              "      flex-wrap:wrap;\n",
              "      gap: 12px;\n",
              "    }\n",
              "\n",
              "    .colab-df-convert {\n",
              "      background-color: #E8F0FE;\n",
              "      border: none;\n",
              "      border-radius: 50%;\n",
              "      cursor: pointer;\n",
              "      display: none;\n",
              "      fill: #1967D2;\n",
              "      height: 32px;\n",
              "      padding: 0 0 0 0;\n",
              "      width: 32px;\n",
              "    }\n",
              "\n",
              "    .colab-df-convert:hover {\n",
              "      background-color: #E2EBFA;\n",
              "      box-shadow: 0px 1px 2px rgba(60, 64, 67, 0.3), 0px 1px 3px 1px rgba(60, 64, 67, 0.15);\n",
              "      fill: #174EA6;\n",
              "    }\n",
              "\n",
              "    [theme=dark] .colab-df-convert {\n",
              "      background-color: #3B4455;\n",
              "      fill: #D2E3FC;\n",
              "    }\n",
              "\n",
              "    [theme=dark] .colab-df-convert:hover {\n",
              "      background-color: #434B5C;\n",
              "      box-shadow: 0px 1px 3px 1px rgba(0, 0, 0, 0.15);\n",
              "      filter: drop-shadow(0px 1px 2px rgba(0, 0, 0, 0.3));\n",
              "      fill: #FFFFFF;\n",
              "    }\n",
              "  </style>\n",
              "\n",
              "      <script>\n",
              "        const buttonEl =\n",
              "          document.querySelector('#df-a5a2bfda-975a-4020-89ed-aa94b7c768f6 button.colab-df-convert');\n",
              "        buttonEl.style.display =\n",
              "          google.colab.kernel.accessAllowed ? 'block' : 'none';\n",
              "\n",
              "        async function convertToInteractive(key) {\n",
              "          const element = document.querySelector('#df-a5a2bfda-975a-4020-89ed-aa94b7c768f6');\n",
              "          const dataTable =\n",
              "            await google.colab.kernel.invokeFunction('convertToInteractive',\n",
              "                                                     [key], {});\n",
              "          if (!dataTable) return;\n",
              "\n",
              "          const docLinkHtml = 'Like what you see? Visit the ' +\n",
              "            '<a target=\"_blank\" href=https://colab.research.google.com/notebooks/data_table.ipynb>data table notebook</a>'\n",
              "            + ' to learn more about interactive tables.';\n",
              "          element.innerHTML = '';\n",
              "          dataTable['output_type'] = 'display_data';\n",
              "          await google.colab.output.renderOutput(dataTable, element);\n",
              "          const docLink = document.createElement('div');\n",
              "          docLink.innerHTML = docLinkHtml;\n",
              "          element.appendChild(docLink);\n",
              "        }\n",
              "      </script>\n",
              "    </div>\n",
              "  </div>\n",
              "  "
            ]
          },
          "metadata": {}
        }
      ]
    },
    {
      "cell_type": "code",
      "source": [
        "label = 'Max Risk Adjusted Return Portfolio'\n",
        "mu = port.mu\n",
        "cov = port.cov\n",
        "returns = port.returns"
      ],
      "metadata": {
        "id": "3kHN5MqMeBYE"
      },
      "execution_count": 18,
      "outputs": []
    },
    {
      "cell_type": "code",
      "source": [
        "ax = plf.plot_frontier(w_frontier=frontier, mu=mu, cov=cov, returns=returns, rm=rm, rf=rf, alpha=0.05, cmap='viridis', w=w, label=label, marker='*', s=16, c='r', height=6, width=10, ax=None)"
      ],
      "metadata": {
        "colab": {
          "base_uri": "https://localhost:8080/",
          "height": 441
        },
        "id": "km3UAvNseGuC",
        "outputId": "df11a4b4-4d4a-4bc8-a02b-18b726157127"
      },
      "execution_count": 19,
      "outputs": [
        {
          "output_type": "display_data",
          "data": {
            "text/plain": [
              "<Figure size 720x432 with 2 Axes>"
            ],
            "image/png": "[encoded data removed]"
          },
          "metadata": {
            "needs_background": "light"
          }
        }
      ]
    },
    {
      "cell_type": "code",
      "source": [
        "ax = plf.plot_frontier_area(w_frontier=frontier, cmap=\"tab20\", height=6, width=10, ax=None)"
      ],
      "metadata": {
        "colab": {
          "base_uri": "https://localhost:8080/",
          "height": 441
        },
        "id": "JhG9uhhkeJ9F",
        "outputId": "51acb136-946d-4f51-cf15-8faf02920b1c"
      },
      "execution_count": 20,
      "outputs": [
        {
          "output_type": "display_data",
          "data": {
            "text/plain": [
              "<Figure size 720x432 with 1 Axes>"
            ],
            "image/png": "[encoded data removed]"
          },
          "metadata": {
            "needs_background": "light"
          }
        }
      ]
    },
    {
      "cell_type": "code",
      "source": [
        "rms = ['MV', 'MAD', 'MSV', 'FLPM', 'SLPM', 'CVaR', 'EVaR', 'WR', 'MDD', 'ADD', 'CDaR', 'UCI', 'EDaR']\n",
        "w_s = pd.DataFrame([])\n",
        "\n",
        "for i in rms:\n",
        "    w = port.optimization(model=model, rm=i, obj=obj, rf=rf, l=l, hist=hist)\n",
        "    w_s = pd.concat([w_s, w], axis=1)\n",
        "\n",
        "w_s.columns = rms\n",
        "w_s.style.format(\"{:.2%}\").background_gradient(cmap='YlGn')"
      ],
      "metadata": {
        "colab": {
          "base_uri": "https://localhost:8080/",
          "height": 414
        },
        "id": "g241OiAgePRW",
        "outputId": "46d79692-264f-4576-bae7-57aacbda975c"
      },
      "execution_count": 21,
      "outputs": [
        {
          "output_type": "execute_result",
          "data": {
            "text/plain": [
              "<pandas.io.formats.style.Styler at 0x7f91fe826190>"
            ],
            "text/html": [
              "<style type=\"text/css\">\n",
              "#T_7751a_row0_col0, #T_7751a_row0_col1, #T_7751a_row0_col2, #T_7751a_row0_col3, #T_7751a_row0_col4, #T_7751a_row0_col5, #T_7751a_row0_col6, #T_7751a_row0_col7, #T_7751a_row0_col8, #T_7751a_row0_col9, #T_7751a_row0_col10, #T_7751a_row0_col11, #T_7751a_row0_col12, #T_7751a_row1_col0, #T_7751a_row1_col1, #T_7751a_row1_col2, #T_7751a_row1_col3, #T_7751a_row1_col4, #T_7751a_row1_col5, #T_7751a_row1_col6, #T_7751a_row1_col7, #T_7751a_row1_col8, #T_7751a_row1_col9, #T_7751a_row1_col10, #T_7751a_row1_col11, #T_7751a_row1_col12, #T_7751a_row3_col0, #T_7751a_row3_col1, #T_7751a_row3_col2, #T_7751a_row3_col3, #T_7751a_row3_col4, #T_7751a_row3_col5, #T_7751a_row3_col6, #T_7751a_row3_col7, #T_7751a_row3_col8, #T_7751a_row3_col9, #T_7751a_row3_col10, #T_7751a_row3_col11, #T_7751a_row3_col12, #T_7751a_row4_col0, #T_7751a_row4_col2, #T_7751a_row4_col3, #T_7751a_row4_col4, #T_7751a_row4_col5, #T_7751a_row4_col6, #T_7751a_row4_col7, #T_7751a_row4_col8, #T_7751a_row4_col10, #T_7751a_row5_col3, #T_7751a_row5_col5, #T_7751a_row5_col8, #T_7751a_row5_col10, #T_7751a_row5_col12, #T_7751a_row6_col0, #T_7751a_row6_col1, #T_7751a_row6_col2, #T_7751a_row6_col3, #T_7751a_row6_col4, #T_7751a_row6_col5, #T_7751a_row6_col6, #T_7751a_row6_col7, #T_7751a_row6_col8, #T_7751a_row6_col9, #T_7751a_row6_col10, #T_7751a_row6_col11, #T_7751a_row6_col12, #T_7751a_row7_col0, #T_7751a_row7_col1, #T_7751a_row7_col2, #T_7751a_row7_col3, #T_7751a_row7_col4, #T_7751a_row7_col5, #T_7751a_row7_col6, #T_7751a_row7_col7, #T_7751a_row7_col8, #T_7751a_row7_col9, #T_7751a_row7_col10, #T_7751a_row7_col11, #T_7751a_row7_col12, #T_7751a_row8_col0, #T_7751a_row8_col1, #T_7751a_row8_col2, #T_7751a_row8_col3, #T_7751a_row8_col4, #T_7751a_row8_col5, #T_7751a_row8_col6, #T_7751a_row8_col7, #T_7751a_row8_col8, #T_7751a_row8_col9, #T_7751a_row8_col10, #T_7751a_row8_col11, #T_7751a_row8_col12, #T_7751a_row9_col0, #T_7751a_row9_col1, #T_7751a_row9_col2, #T_7751a_row9_col3, #T_7751a_row9_col4, #T_7751a_row9_col5, #T_7751a_row9_col6, #T_7751a_row9_col7, #T_7751a_row9_col8, #T_7751a_row9_col9, #T_7751a_row9_col10, #T_7751a_row9_col11, #T_7751a_row9_col12 {\n",
              "  background-color: #ffffe5;\n",
              "  color: #000000;\n",
              "}\n",
              "#T_7751a_row2_col0 {\n",
              "  background-color: #77c679;\n",
              "  color: #000000;\n",
              "}\n",
              "#T_7751a_row2_col1 {\n",
              "  background-color: #7fc97c;\n",
              "  color: #000000;\n",
              "}\n",
              "#T_7751a_row2_col2 {\n",
              "  background-color: #9ad587;\n",
              "  color: #000000;\n",
              "}\n",
              "#T_7751a_row2_col3, #T_7751a_row2_col4 {\n",
              "  background-color: #9cd687;\n",
              "  color: #000000;\n",
              "}\n",
              "#T_7751a_row2_col5 {\n",
              "  background-color: #def2a7;\n",
              "  color: #000000;\n",
              "}\n",
              "#T_7751a_row2_col6 {\n",
              "  background-color: #84cb7e;\n",
              "  color: #000000;\n",
              "}\n",
              "#T_7751a_row2_col7, #T_7751a_row2_col11 {\n",
              "  background-color: #238443;\n",
              "  color: #f1f1f1;\n",
              "}\n",
              "#T_7751a_row2_col8 {\n",
              "  background-color: #30954f;\n",
              "  color: #f1f1f1;\n",
              "}\n",
              "#T_7751a_row2_col9 {\n",
              "  background-color: #2f934d;\n",
              "  color: #f1f1f1;\n",
              "}\n",
              "#T_7751a_row2_col10 {\n",
              "  background-color: #056c39;\n",
              "  color: #f1f1f1;\n",
              "}\n",
              "#T_7751a_row2_col12 {\n",
              "  background-color: #258745;\n",
              "  color: #f1f1f1;\n",
              "}\n",
              "#T_7751a_row4_col1 {\n",
              "  background-color: #f9fdc7;\n",
              "  color: #000000;\n",
              "}\n",
              "#T_7751a_row4_col9 {\n",
              "  background-color: #b6e192;\n",
              "  color: #000000;\n",
              "}\n",
              "#T_7751a_row4_col11 {\n",
              "  background-color: #daf0a4;\n",
              "  color: #000000;\n",
              "}\n",
              "#T_7751a_row4_col12 {\n",
              "  background-color: #feffde;\n",
              "  color: #000000;\n",
              "}\n",
              "#T_7751a_row5_col0 {\n",
              "  background-color: #edf8b2;\n",
              "  color: #000000;\n",
              "}\n",
              "#T_7751a_row5_col1 {\n",
              "  background-color: #feffdf;\n",
              "  color: #000000;\n",
              "}\n",
              "#T_7751a_row5_col2 {\n",
              "  background-color: #fbfdcf;\n",
              "  color: #000000;\n",
              "}\n",
              "#T_7751a_row5_col4 {\n",
              "  background-color: #fafdcc;\n",
              "  color: #000000;\n",
              "}\n",
              "#T_7751a_row5_col6 {\n",
              "  background-color: #a7db8c;\n",
              "  color: #000000;\n",
              "}\n",
              "#T_7751a_row5_col7 {\n",
              "  background-color: #e3f4aa;\n",
              "  color: #000000;\n",
              "}\n",
              "#T_7751a_row5_col9 {\n",
              "  background-color: #fcfed3;\n",
              "  color: #000000;\n",
              "}\n",
              "#T_7751a_row5_col11 {\n",
              "  background-color: #ffffe4;\n",
              "  color: #000000;\n",
              "}\n",
              "#T_7751a_row10_col0, #T_7751a_row10_col1, #T_7751a_row10_col2, #T_7751a_row10_col3, #T_7751a_row10_col4, #T_7751a_row10_col5, #T_7751a_row10_col6, #T_7751a_row10_col7, #T_7751a_row10_col8, #T_7751a_row10_col9, #T_7751a_row10_col10, #T_7751a_row10_col11, #T_7751a_row10_col12 {\n",
              "  background-color: #004529;\n",
              "  color: #f1f1f1;\n",
              "}\n",
              "</style>\n",
              "<table id=\"T_7751a_\" class=\"dataframe\">\n",
              "  <thead>\n",
              "    <tr>\n",
              "      <th class=\"blank level0\" >&nbsp;</th>\n",
              "      <th class=\"col_heading level0 col0\" >MV</th>\n",
              "      <th class=\"col_heading level0 col1\" >MAD</th>\n",
              "      <th class=\"col_heading level0 col2\" >MSV</th>\n",
              "      <th class=\"col_heading level0 col3\" >FLPM</th>\n",
              "      <th class=\"col_heading level0 col4\" >SLPM</th>\n",
              "      <th class=\"col_heading level0 col5\" >CVaR</th>\n",
              "      <th class=\"col_heading level0 col6\" >EVaR</th>\n",
              "      <th class=\"col_heading level0 col7\" >WR</th>\n",
              "      <th class=\"col_heading level0 col8\" >MDD</th>\n",
              "      <th class=\"col_heading level0 col9\" >ADD</th>\n",
              "      <th class=\"col_heading level0 col10\" >CDaR</th>\n",
              "      <th class=\"col_heading level0 col11\" >UCI</th>\n",
              "      <th class=\"col_heading level0 col12\" >EDaR</th>\n",
              "    </tr>\n",
              "  </thead>\n",
              "  <tbody>\n",
              "    <tr>\n",
              "      <th id=\"T_7751a_level0_row0\" class=\"row_heading level0 row0\" >APO</th>\n",
              "      <td id=\"T_7751a_row0_col0\" class=\"data row0 col0\" >0.00%</td>\n",
              "      <td id=\"T_7751a_row0_col1\" class=\"data row0 col1\" >0.00%</td>\n",
              "      <td id=\"T_7751a_row0_col2\" class=\"data row0 col2\" >0.00%</td>\n",
              "      <td id=\"T_7751a_row0_col3\" class=\"data row0 col3\" >0.00%</td>\n",
              "      <td id=\"T_7751a_row0_col4\" class=\"data row0 col4\" >0.00%</td>\n",
              "      <td id=\"T_7751a_row0_col5\" class=\"data row0 col5\" >0.00%</td>\n",
              "      <td id=\"T_7751a_row0_col6\" class=\"data row0 col6\" >0.00%</td>\n",
              "      <td id=\"T_7751a_row0_col7\" class=\"data row0 col7\" >0.00%</td>\n",
              "      <td id=\"T_7751a_row0_col8\" class=\"data row0 col8\" >0.00%</td>\n",
              "      <td id=\"T_7751a_row0_col9\" class=\"data row0 col9\" >0.00%</td>\n",
              "      <td id=\"T_7751a_row0_col10\" class=\"data row0 col10\" >0.00%</td>\n",
              "      <td id=\"T_7751a_row0_col11\" class=\"data row0 col11\" >0.00%</td>\n",
              "      <td id=\"T_7751a_row0_col12\" class=\"data row0 col12\" >0.00%</td>\n",
              "    </tr>\n",
              "    <tr>\n",
              "      <th id=\"T_7751a_level0_row1\" class=\"row_heading level0 row1\" >CTLT</th>\n",
              "      <td id=\"T_7751a_row1_col0\" class=\"data row1 col0\" >0.00%</td>\n",
              "      <td id=\"T_7751a_row1_col1\" class=\"data row1 col1\" >0.00%</td>\n",
              "      <td id=\"T_7751a_row1_col2\" class=\"data row1 col2\" >0.00%</td>\n",
              "      <td id=\"T_7751a_row1_col3\" class=\"data row1 col3\" >0.00%</td>\n",
              "      <td id=\"T_7751a_row1_col4\" class=\"data row1 col4\" >0.00%</td>\n",
              "      <td id=\"T_7751a_row1_col5\" class=\"data row1 col5\" >0.00%</td>\n",
              "      <td id=\"T_7751a_row1_col6\" class=\"data row1 col6\" >0.00%</td>\n",
              "      <td id=\"T_7751a_row1_col7\" class=\"data row1 col7\" >0.00%</td>\n",
              "      <td id=\"T_7751a_row1_col8\" class=\"data row1 col8\" >0.00%</td>\n",
              "      <td id=\"T_7751a_row1_col9\" class=\"data row1 col9\" >0.00%</td>\n",
              "      <td id=\"T_7751a_row1_col10\" class=\"data row1 col10\" >0.00%</td>\n",
              "      <td id=\"T_7751a_row1_col11\" class=\"data row1 col11\" >0.00%</td>\n",
              "      <td id=\"T_7751a_row1_col12\" class=\"data row1 col12\" >0.00%</td>\n",
              "    </tr>\n",
              "    <tr>\n",
              "      <th id=\"T_7751a_level0_row2\" class=\"row_heading level0 row2\" >FTNT</th>\n",
              "      <td id=\"T_7751a_row2_col0\" class=\"data row2 col0\" >30.08%</td>\n",
              "      <td id=\"T_7751a_row2_col1\" class=\"data row2 col1\" >30.39%</td>\n",
              "      <td id=\"T_7751a_row2_col2\" class=\"data row2 col2\" >28.26%</td>\n",
              "      <td id=\"T_7751a_row2_col3\" class=\"data row2 col3\" >29.36%</td>\n",
              "      <td id=\"T_7751a_row2_col4\" class=\"data row2 col4\" >27.85%</td>\n",
              "      <td id=\"T_7751a_row2_col5\" class=\"data row2 col5\" >18.68%</td>\n",
              "      <td id=\"T_7751a_row2_col6\" class=\"data row2 col6\" >25.26%</td>\n",
              "      <td id=\"T_7751a_row2_col7\" class=\"data row2 col7\" >38.21%</td>\n",
              "      <td id=\"T_7751a_row2_col8\" class=\"data row2 col8\" >40.98%</td>\n",
              "      <td id=\"T_7751a_row2_col9\" class=\"data row2 col9\" >33.43%</td>\n",
              "      <td id=\"T_7751a_row2_col10\" class=\"data row2 col10\" >46.11%</td>\n",
              "      <td id=\"T_7751a_row2_col11\" class=\"data row2 col11\" >37.36%</td>\n",
              "      <td id=\"T_7751a_row2_col12\" class=\"data row2 col12\" >42.04%</td>\n",
              "    </tr>\n",
              "    <tr>\n",
              "      <th id=\"T_7751a_level0_row3\" class=\"row_heading level0 row3\" >GDDY</th>\n",
              "      <td id=\"T_7751a_row3_col0\" class=\"data row3 col0\" >0.00%</td>\n",
              "      <td id=\"T_7751a_row3_col1\" class=\"data row3 col1\" >0.00%</td>\n",
              "      <td id=\"T_7751a_row3_col2\" class=\"data row3 col2\" >0.00%</td>\n",
              "      <td id=\"T_7751a_row3_col3\" class=\"data row3 col3\" >0.00%</td>\n",
              "      <td id=\"T_7751a_row3_col4\" class=\"data row3 col4\" >0.00%</td>\n",
              "      <td id=\"T_7751a_row3_col5\" class=\"data row3 col5\" >0.00%</td>\n",
              "      <td id=\"T_7751a_row3_col6\" class=\"data row3 col6\" >0.00%</td>\n",
              "      <td id=\"T_7751a_row3_col7\" class=\"data row3 col7\" >0.00%</td>\n",
              "      <td id=\"T_7751a_row3_col8\" class=\"data row3 col8\" >0.00%</td>\n",
              "      <td id=\"T_7751a_row3_col9\" class=\"data row3 col9\" >0.00%</td>\n",
              "      <td id=\"T_7751a_row3_col10\" class=\"data row3 col10\" >0.00%</td>\n",
              "      <td id=\"T_7751a_row3_col11\" class=\"data row3 col11\" >0.00%</td>\n",
              "      <td id=\"T_7751a_row3_col12\" class=\"data row3 col12\" >0.00%</td>\n",
              "    </tr>\n",
              "    <tr>\n",
              "      <th id=\"T_7751a_level0_row4\" class=\"row_heading level0 row4\" >HCA</th>\n",
              "      <td id=\"T_7751a_row4_col0\" class=\"data row4 col0\" >0.00%</td>\n",
              "      <td id=\"T_7751a_row4_col1\" class=\"data row4 col1\" >5.51%</td>\n",
              "      <td id=\"T_7751a_row4_col2\" class=\"data row4 col2\" >0.00%</td>\n",
              "      <td id=\"T_7751a_row4_col3\" class=\"data row4 col3\" >0.00%</td>\n",
              "      <td id=\"T_7751a_row4_col4\" class=\"data row4 col4\" >0.00%</td>\n",
              "      <td id=\"T_7751a_row4_col5\" class=\"data row4 col5\" >0.00%</td>\n",
              "      <td id=\"T_7751a_row4_col6\" class=\"data row4 col6\" >0.00%</td>\n",
              "      <td id=\"T_7751a_row4_col7\" class=\"data row4 col7\" >0.00%</td>\n",
              "      <td id=\"T_7751a_row4_col8\" class=\"data row4 col8\" >0.00%</td>\n",
              "      <td id=\"T_7751a_row4_col9\" class=\"data row4 col9\" >16.56%</td>\n",
              "      <td id=\"T_7751a_row4_col10\" class=\"data row4 col10\" >0.00%</td>\n",
              "      <td id=\"T_7751a_row4_col11\" class=\"data row4 col11\" >12.38%</td>\n",
              "      <td id=\"T_7751a_row4_col12\" class=\"data row4 col12\" >1.26%</td>\n",
              "    </tr>\n",
              "    <tr>\n",
              "      <th id=\"T_7751a_level0_row5\" class=\"row_heading level0 row5\" >HUN</th>\n",
              "      <td id=\"T_7751a_row5_col0\" class=\"data row5 col0\" >9.92%</td>\n",
              "      <td id=\"T_7751a_row5_col1\" class=\"data row5 col1\" >1.11%</td>\n",
              "      <td id=\"T_7751a_row5_col2\" class=\"data row5 col2\" >4.26%</td>\n",
              "      <td id=\"T_7751a_row5_col3\" class=\"data row5 col3\" >0.00%</td>\n",
              "      <td id=\"T_7751a_row5_col4\" class=\"data row5 col4\" >4.90%</td>\n",
              "      <td id=\"T_7751a_row5_col5\" class=\"data row5 col5\" >0.04%</td>\n",
              "      <td id=\"T_7751a_row5_col6\" class=\"data row5 col6\" >20.89%</td>\n",
              "      <td id=\"T_7751a_row5_col7\" class=\"data row5 col7\" >10.63%</td>\n",
              "      <td id=\"T_7751a_row5_col8\" class=\"data row5 col8\" >0.00%</td>\n",
              "      <td id=\"T_7751a_row5_col9\" class=\"data row5 col9\" >2.43%</td>\n",
              "      <td id=\"T_7751a_row5_col10\" class=\"data row5 col10\" >0.00%</td>\n",
              "      <td id=\"T_7751a_row5_col11\" class=\"data row5 col11\" >0.30%</td>\n",
              "      <td id=\"T_7751a_row5_col12\" class=\"data row5 col12\" >0.00%</td>\n",
              "    </tr>\n",
              "    <tr>\n",
              "      <th id=\"T_7751a_level0_row6\" class=\"row_heading level0 row6\" >KKR</th>\n",
              "      <td id=\"T_7751a_row6_col0\" class=\"data row6 col0\" >0.00%</td>\n",
              "      <td id=\"T_7751a_row6_col1\" class=\"data row6 col1\" >0.00%</td>\n",
              "      <td id=\"T_7751a_row6_col2\" class=\"data row6 col2\" >0.00%</td>\n",
              "      <td id=\"T_7751a_row6_col3\" class=\"data row6 col3\" >0.00%</td>\n",
              "      <td id=\"T_7751a_row6_col4\" class=\"data row6 col4\" >0.00%</td>\n",
              "      <td id=\"T_7751a_row6_col5\" class=\"data row6 col5\" >0.00%</td>\n",
              "      <td id=\"T_7751a_row6_col6\" class=\"data row6 col6\" >0.00%</td>\n",
              "      <td id=\"T_7751a_row6_col7\" class=\"data row6 col7\" >0.00%</td>\n",
              "      <td id=\"T_7751a_row6_col8\" class=\"data row6 col8\" >0.00%</td>\n",
              "      <td id=\"T_7751a_row6_col9\" class=\"data row6 col9\" >0.00%</td>\n",
              "      <td id=\"T_7751a_row6_col10\" class=\"data row6 col10\" >0.00%</td>\n",
              "      <td id=\"T_7751a_row6_col11\" class=\"data row6 col11\" >0.00%</td>\n",
              "      <td id=\"T_7751a_row6_col12\" class=\"data row6 col12\" >0.00%</td>\n",
              "    </tr>\n",
              "    <tr>\n",
              "      <th id=\"T_7751a_level0_row7\" class=\"row_heading level0 row7\" >RDNT</th>\n",
              "      <td id=\"T_7751a_row7_col0\" class=\"data row7 col0\" >0.00%</td>\n",
              "      <td id=\"T_7751a_row7_col1\" class=\"data row7 col1\" >0.00%</td>\n",
              "      <td id=\"T_7751a_row7_col2\" class=\"data row7 col2\" >0.00%</td>\n",
              "      <td id=\"T_7751a_row7_col3\" class=\"data row7 col3\" >0.00%</td>\n",
              "      <td id=\"T_7751a_row7_col4\" class=\"data row7 col4\" >0.00%</td>\n",
              "      <td id=\"T_7751a_row7_col5\" class=\"data row7 col5\" >0.00%</td>\n",
              "      <td id=\"T_7751a_row7_col6\" class=\"data row7 col6\" >0.00%</td>\n",
              "      <td id=\"T_7751a_row7_col7\" class=\"data row7 col7\" >0.00%</td>\n",
              "      <td id=\"T_7751a_row7_col8\" class=\"data row7 col8\" >0.00%</td>\n",
              "      <td id=\"T_7751a_row7_col9\" class=\"data row7 col9\" >0.00%</td>\n",
              "      <td id=\"T_7751a_row7_col10\" class=\"data row7 col10\" >0.00%</td>\n",
              "      <td id=\"T_7751a_row7_col11\" class=\"data row7 col11\" >0.00%</td>\n",
              "      <td id=\"T_7751a_row7_col12\" class=\"data row7 col12\" >0.00%</td>\n",
              "    </tr>\n",
              "    <tr>\n",
              "      <th id=\"T_7751a_level0_row8\" class=\"row_heading level0 row8\" >RH</th>\n",
              "      <td id=\"T_7751a_row8_col0\" class=\"data row8 col0\" >0.00%</td>\n",
              "      <td id=\"T_7751a_row8_col1\" class=\"data row8 col1\" >0.00%</td>\n",
              "      <td id=\"T_7751a_row8_col2\" class=\"data row8 col2\" >0.00%</td>\n",
              "      <td id=\"T_7751a_row8_col3\" class=\"data row8 col3\" >0.00%</td>\n",
              "      <td id=\"T_7751a_row8_col4\" class=\"data row8 col4\" >0.00%</td>\n",
              "      <td id=\"T_7751a_row8_col5\" class=\"data row8 col5\" >0.00%</td>\n",
              "      <td id=\"T_7751a_row8_col6\" class=\"data row8 col6\" >0.00%</td>\n",
              "      <td id=\"T_7751a_row8_col7\" class=\"data row8 col7\" >0.00%</td>\n",
              "      <td id=\"T_7751a_row8_col8\" class=\"data row8 col8\" >0.00%</td>\n",
              "      <td id=\"T_7751a_row8_col9\" class=\"data row8 col9\" >0.00%</td>\n",
              "      <td id=\"T_7751a_row8_col10\" class=\"data row8 col10\" >0.00%</td>\n",
              "      <td id=\"T_7751a_row8_col11\" class=\"data row8 col11\" >0.00%</td>\n",
              "      <td id=\"T_7751a_row8_col12\" class=\"data row8 col12\" >0.00%</td>\n",
              "    </tr>\n",
              "    <tr>\n",
              "      <th id=\"T_7751a_level0_row9\" class=\"row_heading level0 row9\" >SRCL</th>\n",
              "      <td id=\"T_7751a_row9_col0\" class=\"data row9 col0\" >0.00%</td>\n",
              "      <td id=\"T_7751a_row9_col1\" class=\"data row9 col1\" >0.00%</td>\n",
              "      <td id=\"T_7751a_row9_col2\" class=\"data row9 col2\" >0.00%</td>\n",
              "      <td id=\"T_7751a_row9_col3\" class=\"data row9 col3\" >0.00%</td>\n",
              "      <td id=\"T_7751a_row9_col4\" class=\"data row9 col4\" >0.00%</td>\n",
              "      <td id=\"T_7751a_row9_col5\" class=\"data row9 col5\" >0.00%</td>\n",
              "      <td id=\"T_7751a_row9_col6\" class=\"data row9 col6\" >0.00%</td>\n",
              "      <td id=\"T_7751a_row9_col7\" class=\"data row9 col7\" >0.00%</td>\n",
              "      <td id=\"T_7751a_row9_col8\" class=\"data row9 col8\" >0.00%</td>\n",
              "      <td id=\"T_7751a_row9_col9\" class=\"data row9 col9\" >0.00%</td>\n",
              "      <td id=\"T_7751a_row9_col10\" class=\"data row9 col10\" >0.00%</td>\n",
              "      <td id=\"T_7751a_row9_col11\" class=\"data row9 col11\" >0.00%</td>\n",
              "      <td id=\"T_7751a_row9_col12\" class=\"data row9 col12\" >0.00%</td>\n",
              "    </tr>\n",
              "    <tr>\n",
              "      <th id=\"T_7751a_level0_row10\" class=\"row_heading level0 row10\" >SU</th>\n",
              "      <td id=\"T_7751a_row10_col0\" class=\"data row10 col0\" >60.00%</td>\n",
              "      <td id=\"T_7751a_row10_col1\" class=\"data row10 col1\" >62.98%</td>\n",
              "      <td id=\"T_7751a_row10_col2\" class=\"data row10 col2\" >67.47%</td>\n",
              "      <td id=\"T_7751a_row10_col3\" class=\"data row10 col3\" >70.64%</td>\n",
              "      <td id=\"T_7751a_row10_col4\" class=\"data row10 col4\" >67.25%</td>\n",
              "      <td id=\"T_7751a_row10_col5\" class=\"data row10 col5\" >81.28%</td>\n",
              "      <td id=\"T_7751a_row10_col6\" class=\"data row10 col6\" >53.85%</td>\n",
              "      <td id=\"T_7751a_row10_col7\" class=\"data row10 col7\" >51.16%</td>\n",
              "      <td id=\"T_7751a_row10_col8\" class=\"data row10 col8\" >59.02%</td>\n",
              "      <td id=\"T_7751a_row10_col9\" class=\"data row10 col9\" >47.57%</td>\n",
              "      <td id=\"T_7751a_row10_col10\" class=\"data row10 col10\" >53.89%</td>\n",
              "      <td id=\"T_7751a_row10_col11\" class=\"data row10 col11\" >49.96%</td>\n",
              "      <td id=\"T_7751a_row10_col12\" class=\"data row10 col12\" >56.70%</td>\n",
              "    </tr>\n",
              "  </tbody>\n",
              "</table>\n"
            ]
          },
          "metadata": {},
          "execution_count": 21
        }
      ]
    },
    {
      "cell_type": "code",
      "source": [
        "import matplotlib.pyplot as plt"
      ],
      "metadata": {
        "id": "0Z-39_gHeaKO"
      },
      "execution_count": 22,
      "outputs": []
    },
    {
      "cell_type": "code",
      "source": [
        "fig = plt.gcf()\n",
        "fig.set_figwidth(14)\n",
        "fig.set_figheight(6)\n",
        "ax = fig.subplots(nrows=1, ncols=1)\n",
        "\n",
        "w_s.plot.bar(ax=ax)"
      ],
      "metadata": {
        "colab": {
          "base_uri": "https://localhost:8080/",
          "height": 410
        },
        "id": "VQ2CcdLzebwI",
        "outputId": "2e63614c-6151-4fc0-f40f-b0bb0beea545"
      },
      "execution_count": 23,
      "outputs": [
        {
          "output_type": "execute_result",
          "data": {
            "text/plain": [
              "<AxesSubplot:>"
            ]
          },
          "metadata": {},
          "execution_count": 23
        },
        {
          "output_type": "display_data",
          "data": {
            "text/plain": [
              "<Figure size 1008x432 with 1 Axes>"
            ],
            "image/png": "[encoded data removed]"
          },
          "metadata": {
            "needs_background": "light"
          }
        }
      ]
    },
    {
      "cell_type": "code",
      "source": [
        "#https://medium.com/@orenji.eirl/riskfolio-lib-portfolio-optimization-with-python-650c6223e8b1\n",
        "\n",
        "#change arbitrary timeset for better result. "
      ],
      "metadata": {
        "id": "wsOw2xHQoS_D"
      },
      "execution_count": null,
      "outputs": []
    }
  ]
}